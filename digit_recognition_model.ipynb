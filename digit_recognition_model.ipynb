{
 "cells": [
  {
   "cell_type": "code",
   "execution_count": 1,
   "metadata": {},
   "outputs": [],
   "source": [
    "import pandas as pd\n",
    "from PIL import Image\n",
    "\n",
    "%matplotlib inline \n",
    "from matplotlib import pyplot as plt\n",
    "\n",
    "from sklearn.metrics import confusion_matrix, accuracy_score\n",
    "from sklearn.model_selection import train_test_split\n",
    "from sklearn.svm import SVC\n",
    "from sklearn.preprocessing import normalize \n",
    "from PIL import Image\n",
    "import numpy as np\n",
    "\n",
    "# from sklearn.ensemble import RandomForestClassifier"
   ]
  },
  {
   "cell_type": "code",
   "execution_count": 2,
   "metadata": {},
   "outputs": [],
   "source": [
    "train = pd.read_csv(\"train.csv\")\n",
    "# test = pd.read_csv(\"test.csv\")"
   ]
  },
  {
   "cell_type": "code",
   "execution_count": 3,
   "metadata": {},
   "outputs": [],
   "source": [
    "# Reduce training size to 10000s for now\n",
    "\n",
    "# drop_indices = np.random.choice(train.index, 30000, replace=False)\n",
    "# train = train.drop(drop_indices)\n"
   ]
  },
  {
   "cell_type": "code",
   "execution_count": 4,
   "metadata": {},
   "outputs": [],
   "source": [
    "\n",
    "X_train = train.iloc[:, 1:]\n",
    "Y_train = train.iloc[:, 0]\n",
    "\n",
    "# X_test = test.iloc[:, 1:]\n",
    "# Y_test = test.iloc[:, 0]"
   ]
  },
  {
   "cell_type": "markdown",
   "metadata": {},
   "source": [
    "# Train Test Split\n",
    "Provided test set file doesn't have corresponding label  \n",
    "Therefore, training set itself is split into training and testing sets!\n",
    "\n",
    "Since we have a lot of features (748), using too many examples took\n",
    "too long to train. \n",
    "\n",
    "So, I decided to use only about 8000 of them instead of 40000."
   ]
  },
  {
   "cell_type": "code",
   "execution_count": 5,
   "metadata": {},
   "outputs": [],
   "source": [
    "# Train test split\n",
    "\n",
    "X_train, X_test, Y_train, Y_test = train_test_split(X_train, Y_train, test_size=0.8 )"
   ]
  },
  {
   "cell_type": "markdown",
   "metadata": {},
   "source": [
    "## Data Visualization\n",
    "\n",
    "Getting to know the data!"
   ]
  },
  {
   "cell_type": "code",
   "execution_count": 6,
   "metadata": {},
   "outputs": [
    {
     "name": "stdin",
     "output_type": "stream",
     "text": [
      " y\n"
     ]
    },
    {
     "data": {
      "image/png": "[encoded data removed]",
      "text/plain": [
       "<Figure size 432x288 with 1 Axes>"
      ]
     },
     "metadata": {
      "needs_background": "light"
     },
     "output_type": "display_data"
    },
    {
     "name": "stdin",
     "output_type": "stream",
     "text": [
      " n\n"
     ]
    }
   ],
   "source": [
    "# Produce an image\n",
    "\n",
    "imgdata = X_train.values\n",
    "\n",
    "imgdata = imgdata\n",
    "i = 0\n",
    "\n",
    "while (input() != \"n\"):\n",
    "    i += 1\n",
    "    img = imgdata[i][:].reshape((28,28))\n",
    "#     print(img)\n",
    "#     img = Image.fromarray(img, mode=\"L\")\n",
    "#      img.resize((12,12))\n",
    "    \n",
    "#     img = np.array(img)\n",
    "\n",
    "    plt.imshow(img)\n",
    "    plt.show()"
   ]
  },
  {
   "cell_type": "code",
   "execution_count": 7,
   "metadata": {},
   "outputs": [],
   "source": [
    "# re-scale features\n",
    "\n",
    "X_train = X_train/255\n",
    "X_test = X_test/255"
   ]
  },
  {
   "cell_type": "code",
   "execution_count": 8,
   "metadata": {},
   "outputs": [
    {
     "name": "stdout",
     "output_type": "stream",
     "text": [
      "(8400,)\n",
      "[LibSVM]"
     ]
    }
   ],
   "source": [
    "# Train a SVM\n",
    "model = SVC(C = 1, gamma='auto', verbose=5)\n",
    "\n",
    "# fit\n",
    "model.fit(X_train, Y_train)\n",
    "\n",
    "# predict\n",
    "Y_pred = model.predict(X_test)"
   ]
  },
  {
   "cell_type": "markdown",
   "metadata": {},
   "source": [
    "## Performance Metrics"
   ]
  },
  {
   "cell_type": "code",
   "execution_count": 10,
   "metadata": {},
   "outputs": [
    {
     "data": {
      "text/plain": [
       "array([[3236,    0,   12,    5,    5,   29,   24,    4,   17,    2],\n",
       "       [   0, 3627,   13,   16,    3,   15,    6,    5,   15,    5],\n",
       "       [  20,   32, 3000,   33,   45,   13,   55,   59,   96,   14],\n",
       "       [   7,   34,   58, 3073,    1,  144,   17,   35,   76,   19],\n",
       "       [   6,   22,   30,    0, 2991,    4,   29,   10,    8,  199],\n",
       "       [  18,   66,   15,  119,   22, 2678,   55,    6,   27,   20],\n",
       "       [  20,   18,   26,    2,   19,   41, 3204,    0,    8,    0],\n",
       "       [  13,   47,   40,    6,   41,    6,    1, 3163,    5,  132],\n",
       "       [  14,   82,   21,   98,   18,  111,   24,   14, 2807,   54],\n",
       "       [  25,   20,   15,   57,  100,   22,    1,  112,   29, 2989]])"
      ]
     },
     "execution_count": 10,
     "metadata": {},
     "output_type": "execute_result"
    }
   ],
   "source": [
    "# Confusion matrix\n",
    "confusion_matrix(y_true=Y_test, y_pred=Y_pred)"
   ]
  },
  {
   "cell_type": "code",
   "execution_count": 13,
   "metadata": {},
   "outputs": [
    {
     "data": {
      "text/plain": [
       "0.9157142857142857"
      ]
     },
     "execution_count": 13,
     "metadata": {},
     "output_type": "execute_result"
    }
   ],
   "source": [
    "from sklearn.metrics import accuracy_score\n",
    "accuracy_score(Y_pred, Y_test)"
   ]
  }
 ],
 "metadata": {
  "kernelspec": {
   "display_name": "Python 3",
   "language": "python",
   "name": "python3"
  },
  "language_info": {
   "codemirror_mode": {
    "name": "ipython",
    "version": 3
   },
   "file_extension": ".py",
   "mimetype": "text/x-python",
   "name": "python",
   "nbconvert_exporter": "python",
   "pygments_lexer": "ipython3",
   "version": "3.7.3"
  }
 },
 "nbformat": 4,
 "nbformat_minor": 4
}
